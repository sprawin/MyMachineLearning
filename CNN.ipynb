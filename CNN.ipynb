{
 "cells": [
  {
   "cell_type": "markdown",
   "metadata": {
    "id": "XVnFTE-6CgEw"
   },
   "source": [
    "# Importing Libraries"
   ]
  },
  {
   "cell_type": "code",
   "execution_count": 5,
   "metadata": {
    "executionInfo": {
     "elapsed": 1280,
     "status": "ok",
     "timestamp": 1619637525209,
     "user": {
      "displayName": "praveen subramaniam",
      "photoUrl": "https://lh3.googleusercontent.com/a-/AOh14GjhCabGC5VFX0a23Hdy12EMKIEntt_7yOnhsQuU-g=s64",
      "userId": "10892922438895617376"
     },
     "user_tz": -330
    },
    "id": "jAQxrQFHacVt"
   },
   "outputs": [],
   "source": [
    "import tensorflow as tf\n",
    "from keras.preprocessing.image import ImageDataGenerator"
   ]
  },
  {
   "cell_type": "code",
   "execution_count": 6,
   "metadata": {
    "colab": {
     "base_uri": "https://localhost:8080/"
    },
    "executionInfo": {
     "elapsed": 996,
     "status": "ok",
     "timestamp": 1619637528658,
     "user": {
      "displayName": "praveen subramaniam",
      "photoUrl": "https://lh3.googleusercontent.com/a-/AOh14GjhCabGC5VFX0a23Hdy12EMKIEntt_7yOnhsQuU-g=s64",
      "userId": "10892922438895617376"
     },
     "user_tz": -330
    },
    "id": "px5pUvy66d43",
    "outputId": "bf535447-20ac-4d39-fd24-382724f44f10"
   },
   "outputs": [
    {
     "name": "stdout",
     "output_type": "stream",
     "text": [
      "Tensorflow Version:  2.4.1\n"
     ]
    }
   ],
   "source": [
    "print(\"Tensorflow Version: \",tf.__version__)"
   ]
  },
  {
   "cell_type": "markdown",
   "metadata": {
    "id": "qwg82TFR9GNN"
   },
   "source": [
    "#Preprocessing Training Set"
   ]
  },
  {
   "cell_type": "code",
   "execution_count": 8,
   "metadata": {
    "id": "RxHp0l4N63pv"
   },
   "outputs": [],
   "source": [
    "train_datagen = ImageDataGenerator(rescale=1./255,shear_range=0.2,zoom_range=0.2,horizontal_flip=True)"
   ]
  },
  {
   "cell_type": "code",
   "execution_count": 9,
   "metadata": {
    "id": "lepkuR6X7yM8"
   },
   "outputs": [
    {
     "name": "stdout",
     "output_type": "stream",
     "text": [
      "Found 8000 images belonging to 2 classes.\n"
     ]
    }
   ],
   "source": [
    "training_set = train_datagen.flow_from_directory(\n",
    "        'dataset/training_set',\n",
    "        target_size=(64, 64),\n",
    "        batch_size=32,\n",
    "        class_mode='binary')"
   ]
  },
  {
   "cell_type": "markdown",
   "metadata": {
    "id": "T8mDH02d9J5P"
   },
   "source": [
    "# Preprocessing Test Set"
   ]
  },
  {
   "cell_type": "code",
   "execution_count": 10,
   "metadata": {
    "id": "JZUovU0g8ocF"
   },
   "outputs": [],
   "source": [
    "test_datagen = ImageDataGenerator(rescale=1./255)"
   ]
  },
  {
   "cell_type": "code",
   "execution_count": 11,
   "metadata": {
    "id": "S9ggMcZ086_9"
   },
   "outputs": [
    {
     "name": "stdout",
     "output_type": "stream",
     "text": [
      "Found 2000 images belonging to 2 classes.\n"
     ]
    }
   ],
   "source": [
    "test_set = test_datagen.flow_from_directory(\n",
    "        'dataset/test_Set',\n",
    "        target_size=(64, 64),\n",
    "        batch_size=32,\n",
    "        class_mode='binary')"
   ]
  },
  {
   "cell_type": "markdown",
   "metadata": {
    "id": "NVhlWiwg9cdM"
   },
   "source": [
    "# Building the CNN"
   ]
  },
  {
   "cell_type": "markdown",
   "metadata": {
    "id": "1Sr7934G-ANT"
   },
   "source": [
    "**Initializing the CNN**"
   ]
  },
  {
   "cell_type": "code",
   "execution_count": 12,
   "metadata": {
    "id": "Ijt52egD9e2y"
   },
   "outputs": [],
   "source": [
    "cnn = tf.keras.models.Sequential()"
   ]
  },
  {
   "cell_type": "markdown",
   "metadata": {
    "id": "LGIWA2jR-EVb"
   },
   "source": [
    "**Adding Convolution Layer**"
   ]
  },
  {
   "cell_type": "code",
   "execution_count": 13,
   "metadata": {
    "id": "t2TUoHfy-IT3"
   },
   "outputs": [],
   "source": [
    "cnn.add(tf.keras.layers.Conv2D(filters=32,kernel_size=3,activation='relu',input_shape=[64,64,3]))"
   ]
  },
  {
   "cell_type": "markdown",
   "metadata": {
    "id": "pjr3Cn0J_LZP"
   },
   "source": [
    "**Applying Pooling layers (Max Pooling)**"
   ]
  },
  {
   "cell_type": "code",
   "execution_count": 14,
   "metadata": {
    "id": "H23YqTx_99T0"
   },
   "outputs": [],
   "source": [
    "cnn.add(tf.keras.layers.MaxPool2D(pool_size=(2,2),strides=2))"
   ]
  },
  {
   "cell_type": "markdown",
   "metadata": {
    "id": "K1qvJjRGA4CD"
   },
   "source": [
    "**Adding Second Convolution Layer and Max Pool Layer**"
   ]
  },
  {
   "cell_type": "code",
   "execution_count": 15,
   "metadata": {
    "id": "dWtBE9RvA7ds"
   },
   "outputs": [],
   "source": [
    "cnn.add(tf.keras.layers.Conv2D(filters=32,kernel_size=3,activation='relu'))\n",
    "cnn.add(tf.keras.layers.MaxPool2D(pool_size=(2,2),strides=2))"
   ]
  },
  {
   "cell_type": "markdown",
   "metadata": {
    "id": "fzryRW3lBQj3"
   },
   "source": [
    "**Flattening**"
   ]
  },
  {
   "cell_type": "code",
   "execution_count": 16,
   "metadata": {
    "id": "bZI_XxFZBTZc"
   },
   "outputs": [],
   "source": [
    "cnn.add(tf.keras.layers.Flatten())"
   ]
  },
  {
   "cell_type": "markdown",
   "metadata": {
    "id": "D2ksHl69BjIf"
   },
   "source": [
    "**Adding Fully Connected Layer**"
   ]
  },
  {
   "cell_type": "code",
   "execution_count": 17,
   "metadata": {
    "id": "QT6341hXBl3h"
   },
   "outputs": [],
   "source": [
    "cnn.add(tf.keras.layers.Dense(units = 128, activation = 'relu'))"
   ]
  },
  {
   "cell_type": "markdown",
   "metadata": {
    "id": "NR09jC4JCANI"
   },
   "source": [
    "**Adding Output Layer**"
   ]
  },
  {
   "cell_type": "code",
   "execution_count": 18,
   "metadata": {
    "id": "eo__a-ZoCEPt"
   },
   "outputs": [],
   "source": [
    "cnn.add(tf.keras.layers.Dense(units=1, activation = 'sigmoid'))"
   ]
  },
  {
   "cell_type": "markdown",
   "metadata": {
    "id": "gYVIIfjpCZYp"
   },
   "source": [
    "#Training the CNN"
   ]
  },
  {
   "cell_type": "markdown",
   "metadata": {
    "id": "OvHmCQrRCqLL"
   },
   "source": [
    "**Compiling the CNN**"
   ]
  },
  {
   "cell_type": "code",
   "execution_count": 19,
   "metadata": {
    "id": "f77ogGdaCcTO"
   },
   "outputs": [],
   "source": [
    "cnn.compile(optimizer='adam',loss = 'binary_crossentropy',metrics = ['accuracy'])"
   ]
  },
  {
   "cell_type": "markdown",
   "metadata": {
    "id": "g7oDuf7lDLlo"
   },
   "source": [
    "**Training the CNN on Train Set and evaluating it on the Test Set**"
   ]
  },
  {
   "cell_type": "code",
   "execution_count": 20,
   "metadata": {
    "id": "zodjecWaDQfx"
   },
   "outputs": [
    {
     "name": "stdout",
     "output_type": "stream",
     "text": [
      "Epoch 1/25\n",
      "250/250 [==============================] - 344s 1s/step - loss: 0.6984 - accuracy: 0.5373 - val_loss: 0.6626 - val_accuracy: 0.5755\n",
      "Epoch 2/25\n",
      "250/250 [==============================] - 101s 403ms/step - loss: 0.6471 - accuracy: 0.6269 - val_loss: 0.5930 - val_accuracy: 0.6900\n",
      "Epoch 3/25\n",
      "250/250 [==============================] - 94s 376ms/step - loss: 0.5973 - accuracy: 0.6774 - val_loss: 0.5323 - val_accuracy: 0.7530\n",
      "Epoch 4/25\n",
      "250/250 [==============================] - 62s 250ms/step - loss: 0.5401 - accuracy: 0.7320 - val_loss: 0.5143 - val_accuracy: 0.7565\n",
      "Epoch 5/25\n",
      "250/250 [==============================] - 63s 251ms/step - loss: 0.5036 - accuracy: 0.7565 - val_loss: 0.5150 - val_accuracy: 0.7515\n",
      "Epoch 6/25\n",
      "250/250 [==============================] - 62s 250ms/step - loss: 0.4814 - accuracy: 0.7640 - val_loss: 0.4870 - val_accuracy: 0.7665\n",
      "Epoch 7/25\n",
      "250/250 [==============================] - 61s 244ms/step - loss: 0.4761 - accuracy: 0.7636 - val_loss: 0.4487 - val_accuracy: 0.7960\n",
      "Epoch 8/25\n",
      "250/250 [==============================] - 62s 249ms/step - loss: 0.4387 - accuracy: 0.7918 - val_loss: 0.4521 - val_accuracy: 0.7960\n",
      "Epoch 9/25\n",
      "250/250 [==============================] - 63s 251ms/step - loss: 0.4360 - accuracy: 0.7943 - val_loss: 0.4790 - val_accuracy: 0.7710\n",
      "Epoch 10/25\n",
      "250/250 [==============================] - 65s 260ms/step - loss: 0.4184 - accuracy: 0.8101 - val_loss: 0.4498 - val_accuracy: 0.8010\n",
      "Epoch 11/25\n",
      "250/250 [==============================] - 61s 245ms/step - loss: 0.4148 - accuracy: 0.8062 - val_loss: 0.4411 - val_accuracy: 0.7950\n",
      "Epoch 12/25\n",
      "250/250 [==============================] - 63s 251ms/step - loss: 0.3807 - accuracy: 0.8298 - val_loss: 0.4278 - val_accuracy: 0.8065\n",
      "Epoch 13/25\n",
      "250/250 [==============================] - 62s 247ms/step - loss: 0.3767 - accuracy: 0.8280 - val_loss: 0.4713 - val_accuracy: 0.7820\n",
      "Epoch 14/25\n",
      "250/250 [==============================] - 58s 234ms/step - loss: 0.3612 - accuracy: 0.8301 - val_loss: 0.4382 - val_accuracy: 0.8080\n",
      "Epoch 15/25\n",
      "250/250 [==============================] - 59s 235ms/step - loss: 0.3491 - accuracy: 0.8477 - val_loss: 0.4365 - val_accuracy: 0.8175\n",
      "Epoch 16/25\n",
      "250/250 [==============================] - 70s 279ms/step - loss: 0.3310 - accuracy: 0.8610 - val_loss: 0.4473 - val_accuracy: 0.8110\n",
      "Epoch 17/25\n",
      "250/250 [==============================] - 66s 264ms/step - loss: 0.3128 - accuracy: 0.8585 - val_loss: 0.4557 - val_accuracy: 0.8040\n",
      "Epoch 18/25\n",
      "250/250 [==============================] - 66s 265ms/step - loss: 0.3191 - accuracy: 0.8606 - val_loss: 0.4555 - val_accuracy: 0.8095\n",
      "Epoch 19/25\n",
      "250/250 [==============================] - 77s 307ms/step - loss: 0.2797 - accuracy: 0.8822 - val_loss: 0.4633 - val_accuracy: 0.8010\n",
      "Epoch 20/25\n",
      "250/250 [==============================] - 71s 282ms/step - loss: 0.2724 - accuracy: 0.8897 - val_loss: 0.5146 - val_accuracy: 0.8055\n",
      "Epoch 21/25\n",
      "250/250 [==============================] - 81s 324ms/step - loss: 0.2548 - accuracy: 0.8942 - val_loss: 0.5094 - val_accuracy: 0.8005\n",
      "Epoch 22/25\n",
      "250/250 [==============================] - 81s 325ms/step - loss: 0.2552 - accuracy: 0.8960 - val_loss: 0.4745 - val_accuracy: 0.8135\n",
      "Epoch 23/25\n",
      "250/250 [==============================] - 81s 324ms/step - loss: 0.2391 - accuracy: 0.9011 - val_loss: 0.5055 - val_accuracy: 0.8050\n",
      "Epoch 24/25\n",
      "250/250 [==============================] - 92s 367ms/step - loss: 0.2353 - accuracy: 0.9021 - val_loss: 0.5413 - val_accuracy: 0.7925\n",
      "Epoch 25/25\n",
      "250/250 [==============================] - 87s 349ms/step - loss: 0.2117 - accuracy: 0.9123 - val_loss: 0.5014 - val_accuracy: 0.8065\n"
     ]
    },
    {
     "data": {
      "text/plain": [
       "<tensorflow.python.keras.callbacks.History at 0x163726e66a0>"
      ]
     },
     "execution_count": 20,
     "metadata": {},
     "output_type": "execute_result"
    }
   ],
   "source": [
    "cnn.fit(x=training_set, validation_data = test_set, epochs = 25)"
   ]
  },
  {
   "cell_type": "markdown",
   "metadata": {
    "id": "-uqlkhfeD-kw"
   },
   "source": [
    "**Making Single Prediction**"
   ]
  },
  {
   "cell_type": "code",
   "execution_count": 25,
   "metadata": {
    "id": "DDjDDyLZECiQ"
   },
   "outputs": [],
   "source": [
    "import numpy as np\n",
    "from keras.preprocessing import image\n",
    "test_image = image.load_img('dataset/single_prediction/cat_or_dog_2.jpg',target_size = (64,64))\n",
    "test_image = image.img_to_array(test_image)\n",
    "test_image = np.expand_dims(test_image, axis = 0)\n",
    "result = cnn.predict(test_image)\n",
    "training_set.class_indices\n",
    "if result[0][0]==1:\n",
    "  prediction = 'dog'\n",
    "else:\n",
    "  prediction = 'cat'"
   ]
  },
  {
   "cell_type": "code",
   "execution_count": 26,
   "metadata": {
    "id": "30JRV1-9HUr8"
   },
   "outputs": [
    {
     "name": "stdout",
     "output_type": "stream",
     "text": [
      "cat\n"
     ]
    }
   ],
   "source": [
    "print(prediction)"
   ]
  },
  {
   "cell_type": "code",
   "execution_count": null,
   "metadata": {},
   "outputs": [],
   "source": []
  }
 ],
 "metadata": {
  "colab": {
   "authorship_tag": "ABX9TyPzaWy1bKpyPEv64CdkGnm/",
   "collapsed_sections": [],
   "name": "CNN.ipynb",
   "provenance": [],
   "toc_visible": true
  },
  "kernelspec": {
   "display_name": "Python 3",
   "language": "python",
   "name": "python3"
  },
  "language_info": {
   "codemirror_mode": {
    "name": "ipython",
    "version": 3
   },
   "file_extension": ".py",
   "mimetype": "text/x-python",
   "name": "python",
   "nbconvert_exporter": "python",
   "pygments_lexer": "ipython3",
   "version": "3.8.5"
  }
 },
 "nbformat": 4,
 "nbformat_minor": 1
}
